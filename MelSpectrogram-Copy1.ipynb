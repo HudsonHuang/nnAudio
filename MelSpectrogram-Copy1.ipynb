{
 "cells": [
  {
   "cell_type": "code",
   "execution_count": 1,
   "metadata": {},
   "outputs": [],
   "source": [
    "import numpy as np\n",
    "from nnAudio import Spectrogram\n",
    "from librosa.core import note_to_hz\n",
    "from librosa.feature import melspectrogram\n",
    "import torch\n",
    "import sys\n",
    "# sys.path.insert(0, './Installation/nnAudio')\n",
    "# import Spectrogram\n",
    "device = 'cuda:0'"
   ]
  },
  {
   "cell_type": "code",
   "execution_count": 2,
   "metadata": {},
   "outputs": [],
   "source": [
    "import matplotlib.pyplot as plt"
   ]
  },
  {
   "cell_type": "markdown",
   "metadata": {},
   "source": [
    "# Creating artificial input signal"
   ]
  },
  {
   "cell_type": "code",
   "execution_count": 3,
   "metadata": {},
   "outputs": [],
   "source": [
    "fs = 22050\n",
    "s = np.linspace(0,10,fs*10)\n",
    "x = np.sin(2*np.pi*50*s, dtype=np.float32) + np.sin(2*np.pi*100*s, dtype=np.float32) \\\n",
    "    + np.sin(2*np.pi*200*s, dtype=np.float32) + np.sin(2*np.pi*400*s, dtype=np.float32) \\\n",
    "    + np.sin(2*np.pi*800*s, dtype=np.float32) + np.sin(2*np.pi*1600*s, dtype=np.float32) \\\n",
    "    + np.sin(2*np.pi*3200*s, dtype=np.float32) + np.sin(2*np.pi*6400*s, dtype=np.float32) "
   ]
  },
  {
   "cell_type": "code",
   "execution_count": 4,
   "metadata": {},
   "outputs": [],
   "source": [
    "x_torch = torch.tensor(x).to(device)"
   ]
  },
  {
   "cell_type": "markdown",
   "metadata": {},
   "source": [
    "# nnAudio"
   ]
  },
  {
   "cell_type": "code",
   "execution_count": 5,
   "metadata": {},
   "outputs": [],
   "source": [
    "power_list = [1,2,3,4,5,6,7,8,9]"
   ]
  },
  {
   "cell_type": "code",
   "execution_count": 10,
   "metadata": {},
   "outputs": [
    {
     "name": "stdout",
     "output_type": "stream",
     "text": [
      "True\n",
      "True\n",
      "True\n",
      "True\n",
      "True\n",
      "True\n",
      "True\n",
      "True\n",
      "True\n"
     ]
    }
   ],
   "source": [
    "for power in power_list:\n",
    "    mel_spectrogram = Spectrogram.MelSpectrogram(verbose=False, power=power)\n",
    "    melspec_torch = mel_spectrogram(x_torch)\n",
    "    result = np.allclose(melspec_torch.cpu().numpy(), melspectrogram(x, power=power), 1e-2, 1e-2)    \n",
    "    \n",
    "    print(result)"
   ]
  },
  {
   "cell_type": "code",
   "execution_count": 7,
   "metadata": {},
   "outputs": [
    {
     "name": "stdout",
     "output_type": "stream",
     "text": [
      "STFT filter created, time used = 0.0029 seconds\n",
      "Mel filter created, time used = 0.0030 seconds\n"
     ]
    }
   ],
   "source": [
    "mel_spectrogram = Spectrogram.MelSpectrogram(power=5)"
   ]
  },
  {
   "cell_type": "code",
   "execution_count": 14,
   "metadata": {},
   "outputs": [],
   "source": [
    "melspec_torch = mel_spectrogram(x_torch)"
   ]
  },
  {
   "cell_type": "code",
   "execution_count": null,
   "metadata": {},
   "outputs": [],
   "source": []
  },
  {
   "cell_type": "code",
   "execution_count": 15,
   "metadata": {},
   "outputs": [
    {
     "data": {
      "text/plain": [
       "False"
      ]
     },
     "execution_count": 15,
     "metadata": {},
     "output_type": "execute_result"
    }
   ],
   "source": [
    "np.allclose(melspec_torch.cpu().numpy(), melspectrogram(x, power=5), 1e-4, 1e-4)"
   ]
  },
  {
   "cell_type": "code",
   "execution_count": 17,
   "metadata": {},
   "outputs": [
    {
     "data": {
      "text/plain": [
       "tensor([[[1.0996e+12, 2.9433e+11, 1.1299e+11,  ..., 1.1516e+11,\n",
       "          1.3393e+11, 4.6788e+11],\n",
       "         [7.5649e+11, 7.3346e+11, 1.0630e+12,  ..., 1.0447e+12,\n",
       "          9.8579e+11, 6.8819e+11],\n",
       "         [1.3573e+11, 1.5853e+11, 3.3728e+11,  ..., 3.3009e+11,\n",
       "          3.1884e+11, 1.0327e+11],\n",
       "         ...,\n",
       "         [6.0273e+00, 1.8835e-01, 1.9697e-14,  ..., 1.4055e-07,\n",
       "          1.9414e-05, 1.6953e+00],\n",
       "         [5.5571e+00, 1.7366e-01, 6.2757e-16,  ..., 1.4037e-06,\n",
       "          2.1998e-05, 1.5908e+00],\n",
       "         [5.2839e+00, 1.6512e-01, 1.1672e-16,  ..., 3.2510e-03,\n",
       "          2.9751e-03, 1.5808e+00]]], device='cuda:0')"
      ]
     },
     "execution_count": 17,
     "metadata": {},
     "output_type": "execute_result"
    }
   ],
   "source": [
    "melspec_torch"
   ]
  },
  {
   "cell_type": "code",
   "execution_count": 18,
   "metadata": {},
   "outputs": [
    {
     "data": {
      "text/plain": [
       "array([[1.09959184e+12, 2.94334923e+11, 1.12989118e+11, ...,\n",
       "        1.15161874e+11, 1.33928083e+11, 4.67877593e+11],\n",
       "       [7.56493451e+11, 7.33466067e+11, 1.06298075e+12, ...,\n",
       "        1.04470597e+12, 9.85789956e+11, 6.88193077e+11],\n",
       "       [1.35733395e+11, 1.58533911e+11, 3.37283416e+11, ...,\n",
       "        3.30091823e+11, 3.18836048e+11, 1.03268352e+11],\n",
       "       ...,\n",
       "       [6.02733660e+00, 1.88352823e-01, 1.96864873e-14, ...,\n",
       "        1.40550867e-07, 1.94136628e-05, 1.69530332e+00],\n",
       "       [5.55711555e+00, 1.73658073e-01, 6.27533412e-16, ...,\n",
       "        1.40367695e-06, 2.19983740e-05, 1.59079611e+00],\n",
       "       [5.28392029e+00, 1.65120810e-01, 1.16578415e-16, ...,\n",
       "        3.25099076e-03, 2.97517725e-03, 1.58076525e+00]], dtype=float32)"
      ]
     },
     "execution_count": 18,
     "metadata": {},
     "output_type": "execute_result"
    }
   ],
   "source": [
    "melspectrogram(x, power=5)"
   ]
  },
  {
   "cell_type": "code",
   "execution_count": 20,
   "metadata": {},
   "outputs": [
    {
     "data": {
      "image/png": "[encoded data removed]",
      "text/plain": [
       "<Figure size 432x288 with 1 Axes>"
      ]
     },
     "metadata": {
      "needs_background": "light"
     },
     "output_type": "display_data"
    }
   ],
   "source": [
    "plt.imshow(melspec_torch[0].cpu().numpy(), aspect='auto', origin='lower')\n",
    "plt.tick_params(labelsize=16)"
   ]
  },
  {
   "cell_type": "markdown",
   "metadata": {},
   "source": [
    "# Librosa Implmentation"
   ]
  },
  {
   "cell_type": "code",
   "execution_count": 21,
   "metadata": {},
   "outputs": [],
   "source": [
    "from librosa.feature import melspectrogram"
   ]
  },
  {
   "cell_type": "code",
   "execution_count": 22,
   "metadata": {},
   "outputs": [
    {
     "data": {
      "text/plain": [
       "<matplotlib.image.AxesImage at 0x7f13c4603f60>"
      ]
     },
     "execution_count": 22,
     "metadata": {},
     "output_type": "execute_result"
    },
    {
     "data": {
      "image/png": "[encoded data removed]",
      "text/plain": [
       "<Figure size 432x288 with 1 Axes>"
      ]
     },
     "metadata": {
      "needs_background": "light"
     },
     "output_type": "display_data"
    }
   ],
   "source": [
    "plt.imshow(melspectrogram(x), aspect='auto', origin='lower')"
   ]
  },
  {
   "cell_type": "markdown",
   "metadata": {},
   "source": [
    "## Comparing nnAudio and Librosa output"
   ]
  },
  {
   "cell_type": "code",
   "execution_count": 9,
   "metadata": {},
   "outputs": [
    {
     "data": {
      "text/plain": [
       "<matplotlib.legend.Legend at 0x7f18f40a45f8>"
      ]
     },
     "execution_count": 9,
     "metadata": {},
     "output_type": "execute_result"
    },
    {
     "data": {
      "image/png": "[encoded data removed]",
      "text/plain": [
       "<Figure size 432x288 with 1 Axes>"
      ]
     },
     "metadata": {
      "needs_background": "light"
     },
     "output_type": "display_data"
    }
   ],
   "source": [
    "plt.plot(melspec_torch[0].numpy()[:,0])\n",
    "plt.plot(melspectrogram(x)[:,0], 'rx')\n",
    "plt.legend(['pytorch', 'librosa'])"
   ]
  },
  {
   "cell_type": "code",
   "execution_count": 10,
   "metadata": {},
   "outputs": [
    {
     "data": {
      "text/plain": [
       "True"
      ]
     },
     "execution_count": 10,
     "metadata": {},
     "output_type": "execute_result"
    }
   ],
   "source": [
    "np.allclose(melspec_torch[0].numpy()[:,0], melspectrogram(x)[:,0])"
   ]
  }
 ],
 "metadata": {
  "kernelspec": {
   "display_name": "Python 3",
   "language": "python",
   "name": "python3"
  },
  "language_info": {
   "codemirror_mode": {
    "name": "ipython",
    "version": 3
   },
   "file_extension": ".py",
   "mimetype": "text/x-python",
   "name": "python",
   "nbconvert_exporter": "python",
   "pygments_lexer": "ipython3",
   "version": "3.6.8"
  }
 },
 "nbformat": 4,
 "nbformat_minor": 2
}
