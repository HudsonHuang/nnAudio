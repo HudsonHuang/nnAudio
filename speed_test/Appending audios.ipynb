{
 "cells": [
  {
   "cell_type": "code",
   "execution_count": 15,
   "metadata": {},
   "outputs": [],
   "source": [
    "# This script is used to create the 1770 audios extracted from MAPS dataset for the speed test\n",
    "from librosa.core import cqt\n",
    "from scipy.io import wavfile\n",
    "import os\n",
    "import sys\n",
    "import matplotlib.pyplot as plt\n",
    "import numpy as np\n",
    "\n",
    "# sys.path.insert(0,'../../../..//MAPS')\n",
    "root = '../../MAPS/AkPnBcht/UCHO/'\n",
    "\n",
    "start = 20000\n",
    "end = 100000"
   ]
  },
  {
   "cell_type": "code",
   "execution_count": 16,
   "metadata": {},
   "outputs": [
    {
     "name": "stdout",
     "output_type": "stream",
     "text": [
      "1770\n"
     ]
    }
   ],
   "source": [
    "total_counter = 0\n",
    "y_list = []\n",
    "for main_folder in os.listdir(root):\n",
    "    for folder in os.listdir(os.path.join(root,main_folder)):\n",
    "        for file in os.listdir(os.path.join(root,main_folder,folder)):\n",
    "            if file.endswith('.wav'):\n",
    "                sr, y = wavfile.read(os.path.join(root,main_folder,folder,file))\n",
    "                y = y.mean(1)[start:end] # converting steoro to mono\n",
    "                y_list.append(y)\n",
    "                total_counter += 1\n",
    "            else:\n",
    "                pass\n",
    "#         print(folder+\" =\", counter)\n",
    "print(total_counter)"
   ]
  },
  {
   "cell_type": "code",
   "execution_count": 17,
   "metadata": {},
   "outputs": [],
   "source": [
    "sr, y = wavfile.read(os.path.join(root,main_folder,folder,file))"
   ]
  },
  {
   "cell_type": "code",
   "execution_count": 18,
   "metadata": {},
   "outputs": [
    {
     "data": {
      "text/plain": [
       "array([[0, 0],\n",
       "       [0, 0],\n",
       "       [0, 0],\n",
       "       ...,\n",
       "       [0, 1],\n",
       "       [0, 1],\n",
       "       [0, 1]], dtype=int16)"
      ]
     },
     "execution_count": 18,
     "metadata": {},
     "output_type": "execute_result"
    }
   ],
   "source": [
    "y"
   ]
  },
  {
   "cell_type": "code",
   "execution_count": 89,
   "metadata": {},
   "outputs": [
    {
     "data": {
      "text/plain": [
       "44100"
      ]
     },
     "execution_count": 89,
     "metadata": {},
     "output_type": "execute_result"
    }
   ],
   "source": [
    "sr"
   ]
  },
  {
   "cell_type": "code",
   "execution_count": 88,
   "metadata": {},
   "outputs": [],
   "source": [
    "np.save('y_list', y_list)"
   ]
  }
 ],
 "metadata": {
  "kernelspec": {
   "display_name": "Python 3",
   "language": "python",
   "name": "python3"
  },
  "language_info": {
   "codemirror_mode": {
    "name": "ipython",
    "version": 3
   },
   "file_extension": ".py",
   "mimetype": "text/x-python",
   "name": "python",
   "nbconvert_exporter": "python",
   "pygments_lexer": "ipython3",
   "version": "3.6.8"
  }
 },
 "nbformat": 4,
 "nbformat_minor": 2
}
